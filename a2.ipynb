{
 "cells": [
  {
   "cell_type": "markdown",
   "metadata": {
    "id": "2nbH8DiPfnFo"
   },
   "source": [
    "# Image Classification - The Multi-class Weather Dataset\n",
    "\n",
    "**Submission deadline: Friday 5 April, 11:55pm**\n",
    "\n",
    "**Assessment weight: 15% of the total unit assessment.**\n",
    "\n",
    "**Versions**\n",
    "\n",
    "- Wednesday 13 March: Initial release\n",
    "\n",
    "*Unless a Special Consideration request has been submitted and approved, a 5% penalty (of the total possible mark of the task) will be applied for each day a written report or presentation assessment is not submitted, up until the 7th day (including weekends). After the 7th day, a grade of ‘0’ will be awarded even if the assessment is submitted. The submission time for all uploaded assessments is **11:55 pm**. A 1-hour grace period will be provided to students who experience a technical concern. For any late submission of time-sensitive tasks, such as scheduled tests/exams, performance assessments/presentations, and/or scheduled practical assessments/labs, please apply for [Special Consideration](https://students.mq.edu.au/study/assessment-exams/special-consideration).*\n",
    "\n",
    "In this assignment you will complete tasks for an end-to-end image classification application. We will train and test the data using the Multi-class Weather Dataset (MWD):\n",
    "\n",
    "- https://data.mendeley.com/datasets/4drtyfjtfy/1\n",
    "\n",
    "The MWD contains labelled images representing various weather scenarios. It is a small and popular dataset for practice with image classification."
   ]
  },
  {
   "cell_type": "markdown",
   "metadata": {
    "id": "Hm9tgmOKfnFv"
   },
   "source": [
    "# Connect to GitHub Classroom\n",
    "\n",
    "Please follow these steps to connect:\n",
    "\n",
    "1. Follow this invitation link and accept the invitation: https://classroom.github.com/a/TGh1XJFW\n",
    "2. The link may ask you to sign in to GitHub (if you haven't signed in earlier). If you don't have a GitHub account, you will need to register.\n",
    "3. Once you have logged in with GitHub, you may need to select your email address to associate your GitHub account with your email address (if you haven't done it in a previous COMP3420 activity). If you can't find your email address, please skip this step and contact diego.molla-aliod@mq.edu.au so that he can do the association manually.\n",
    "4. Wait a minute or two, and refresh the browser until it indicates that your assignment repository has been created. Your repository is private to you, and you have administration privileges. Only you and the lecture will have access to it. The repository will be listed under the list of repositories belonging to this offering of COMP3420: https://github.com/orgs/COMP3420-2024S1/repositories\n",
    "5. In contrast with assignment 1 and the practical sessions, your assignment repository will be empty and will not include starter code. you need to add this Jupyter notebook and commit the changes.\n",
    "\n",
    "Please use the github repository linked to this GitHub classroom. Make sure that you continuously push commits and you provide useful commit comments. Note the following:\n",
    "\n",
    "*  **1 mark of the assessment of this assignment is related to good practice with the use of GitHub.**\n",
    "*  **We will also use github as a tool to check for possible plagiarism or contract cheating. For example, if someone only makes commits on the last day, we may investigate whether there was plagiarism or contract cheating.**\n"
   ]
  },
  {
   "cell_type": "markdown",
   "metadata": {
    "id": "d_eFY2j9fnFw"
   },
   "source": [
    "# Tasks\n",
    "## Task 1 - Data exploration, preparation, and partition (4 marks)\n",
    "\n",
    "Download the MWD from this site and unzip it:\n",
    "\n",
    "- https://data.mendeley.com/datasets/4drtyfjtfy/1\n",
    "\n",
    "You will observe that the zipped file contains 1,125 images representing various weather conditions. To facilitate the assessment of this assignment, please make sure that the images are in a folder named `dataset2` and this folder is in the same place as this jupyter notebook.\n",
    "\n",
    "### 1.1 - data partition (2 marks)\n",
    "\n",
    "Generate three CSV files named `my_training.csv`, `my_validation.csv`, and `my_test.csv` that partition the dataset into the training, validation, and test set. Each CSV file contains the following two fields:\n",
    "\n",
    "- File path\n",
    "- Image label\n",
    "\n",
    "For example, the file `my_training.csv` could start like this:\n",
    "\n",
    "```csv\n",
    "dataset2/cloudy1.jpg,cloudy\n",
    "dataset2/shine170.jpg,shine\n",
    "dataset2/shine116.jpg,shine\n",
    "```\n",
    "\n",
    "Make sure that the partitions are created randomly, so that the label distribution is similar in each partition. Also, make sure that the samples are sorted in no particular order (randomly)\n",
    "\n",
    "Display the label distribution of each partition, and display the first 10 rows of each partition.\n",
    "\n",
    "The following sample files are available together with these instructions. Your files should look similar to these.\n",
    "\n",
    "- `training.csv`\n",
    "- `validation.csv`\n",
    "- `test.csv`\n",
    "\n",
    "**For the subsequent tasks in this assignment, use the files we provide (`training.csv`, `validation.csv`, `test.csv`). Do not use the files that you have generated, so that any errors generated by your solution do not carry to the rest of the assignment. Also, the files we provide conveniently removed references to images that have a number of channels different from 3.**\n",
    "\n",
    "\n"
   ]
  },
  {
   "cell_type": "code",
   "execution_count": 56,
   "metadata": {
    "id": "4_xs5_xhfnFy"
   },
   "outputs": [],
   "source": [
    "import os\n",
    "import csv\n",
    "import random\n",
    "import re\n",
    "import numpy as np\n",
    "import tensorflow as tf\n",
    "from tensorflow.keras import layers\n",
    "from kerastuner.tuners import RandomSearch\n",
    "from tensorflow.keras.layers import Flatten, Dense, Dropout\n",
    "import pandas as pd\n",
    "import matplotlib.pyplot as plt\n",
    "from tensorflow.keras.applications import MobileNet\n",
    "from tensorflow.keras.layers import Dense, GlobalAveragePooling2D\n",
    "from tensorflow.keras.models import Model"
   ]
  },
  {
   "cell_type": "code",
   "execution_count": 21,
   "metadata": {},
   "outputs": [],
   "source": [
    "path = '/home/abinand-balajee/Documents/Artificial Intelligence for Text and Vision - COMP6420/assignment-2-Abinand0302/dataset2'"
   ]
  },
  {
   "cell_type": "code",
   "execution_count": 22,
   "metadata": {},
   "outputs": [],
   "source": [
    "imagelist = [file for file in os.listdir(path)]"
   ]
  },
  {
   "cell_type": "code",
   "execution_count": 23,
   "metadata": {},
   "outputs": [],
   "source": [
    "random.shuffle(imagelist)"
   ]
  },
  {
   "cell_type": "code",
   "execution_count": 24,
   "metadata": {},
   "outputs": [],
   "source": [
    "totalsz = len(imagelist)\n",
    "trainsz = int(0.6*totalsz)\n",
    "valsz = int(0.2*totalsz)\n",
    "testsz = totalsz - trainsz - valsz"
   ]
  },
  {
   "cell_type": "code",
   "execution_count": 25,
   "metadata": {},
   "outputs": [],
   "source": [
    "train_set = imagelist[:trainsz]\n",
    "val_set = imagelist[trainsz:trainsz + valsz]\n",
    "test_set = imagelist[trainsz+valsz:]"
   ]
  },
  {
   "cell_type": "code",
   "execution_count": 26,
   "metadata": {},
   "outputs": [],
   "source": [
    "def write_csv(filename, data):\n",
    "    with open(filename, 'w', newline = '') as csvfile:\n",
    "        writer = csv.writer(csvfile)\n",
    "        writer.writerow(['File Path', 'Image Label'])\n",
    "        for row in data:\n",
    "            file_path = os.path.join(path, row)\n",
    "            base = os.path.splitext(row)[0]\n",
    "            label = ''.join([i for i in base if not i.isdigit()])  \n",
    "            writer.writerow([file_path, label])"
   ]
  },
  {
   "cell_type": "code",
   "execution_count": 27,
   "metadata": {},
   "outputs": [],
   "source": [
    "write_csv('training.csv', train_set)\n",
    "write_csv('validation.csv', val_set)\n",
    "write_csv('test.csv', test_set)"
   ]
  },
  {
   "cell_type": "code",
   "execution_count": 30,
   "metadata": {},
   "outputs": [],
   "source": [
    "tr = pd.read_csv('training.csv')\n",
    "val = pd.read_csv('test.csv')\n",
    "te = pd.read_csv('validation.csv')"
   ]
  },
  {
   "cell_type": "code",
   "execution_count": 31,
   "metadata": {},
   "outputs": [],
   "source": [
    "combined_labels = pd.concat([tr['Image Label'], val['Image Label'],te['Image Label']])"
   ]
  },
  {
   "cell_type": "code",
   "execution_count": 32,
   "metadata": {},
   "outputs": [
    {
     "data": {
      "text/html": [
       "<div>\n",
       "<style scoped>\n",
       "    .dataframe tbody tr th:only-of-type {\n",
       "        vertical-align: middle;\n",
       "    }\n",
       "\n",
       "    .dataframe tbody tr th {\n",
       "        vertical-align: top;\n",
       "    }\n",
       "\n",
       "    .dataframe thead th {\n",
       "        text-align: right;\n",
       "    }\n",
       "</style>\n",
       "<table border=\"1\" class=\"dataframe\">\n",
       "  <thead>\n",
       "    <tr style=\"text-align: right;\">\n",
       "      <th></th>\n",
       "      <th>File Path</th>\n",
       "      <th>Image Label</th>\n",
       "    </tr>\n",
       "  </thead>\n",
       "  <tbody>\n",
       "    <tr>\n",
       "      <th>0</th>\n",
       "      <td>/home/abinand-balajee/Documents/Artificial Int...</td>\n",
       "      <td>shine</td>\n",
       "    </tr>\n",
       "    <tr>\n",
       "      <th>1</th>\n",
       "      <td>/home/abinand-balajee/Documents/Artificial Int...</td>\n",
       "      <td>shine</td>\n",
       "    </tr>\n",
       "    <tr>\n",
       "      <th>2</th>\n",
       "      <td>/home/abinand-balajee/Documents/Artificial Int...</td>\n",
       "      <td>cloudy</td>\n",
       "    </tr>\n",
       "    <tr>\n",
       "      <th>3</th>\n",
       "      <td>/home/abinand-balajee/Documents/Artificial Int...</td>\n",
       "      <td>sunrise</td>\n",
       "    </tr>\n",
       "    <tr>\n",
       "      <th>4</th>\n",
       "      <td>/home/abinand-balajee/Documents/Artificial Int...</td>\n",
       "      <td>cloudy</td>\n",
       "    </tr>\n",
       "    <tr>\n",
       "      <th>5</th>\n",
       "      <td>/home/abinand-balajee/Documents/Artificial Int...</td>\n",
       "      <td>shine</td>\n",
       "    </tr>\n",
       "    <tr>\n",
       "      <th>6</th>\n",
       "      <td>/home/abinand-balajee/Documents/Artificial Int...</td>\n",
       "      <td>rain</td>\n",
       "    </tr>\n",
       "    <tr>\n",
       "      <th>7</th>\n",
       "      <td>/home/abinand-balajee/Documents/Artificial Int...</td>\n",
       "      <td>shine</td>\n",
       "    </tr>\n",
       "    <tr>\n",
       "      <th>8</th>\n",
       "      <td>/home/abinand-balajee/Documents/Artificial Int...</td>\n",
       "      <td>shine</td>\n",
       "    </tr>\n",
       "    <tr>\n",
       "      <th>9</th>\n",
       "      <td>/home/abinand-balajee/Documents/Artificial Int...</td>\n",
       "      <td>sunrise</td>\n",
       "    </tr>\n",
       "  </tbody>\n",
       "</table>\n",
       "</div>"
      ],
      "text/plain": [
       "                                           File Path Image Label\n",
       "0  /home/abinand-balajee/Documents/Artificial Int...       shine\n",
       "1  /home/abinand-balajee/Documents/Artificial Int...       shine\n",
       "2  /home/abinand-balajee/Documents/Artificial Int...      cloudy\n",
       "3  /home/abinand-balajee/Documents/Artificial Int...     sunrise\n",
       "4  /home/abinand-balajee/Documents/Artificial Int...      cloudy\n",
       "5  /home/abinand-balajee/Documents/Artificial Int...       shine\n",
       "6  /home/abinand-balajee/Documents/Artificial Int...        rain\n",
       "7  /home/abinand-balajee/Documents/Artificial Int...       shine\n",
       "8  /home/abinand-balajee/Documents/Artificial Int...       shine\n",
       "9  /home/abinand-balajee/Documents/Artificial Int...     sunrise"
      ]
     },
     "execution_count": 32,
     "metadata": {},
     "output_type": "execute_result"
    }
   ],
   "source": [
    "tr.head(10)"
   ]
  },
  {
   "cell_type": "code",
   "execution_count": 33,
   "metadata": {},
   "outputs": [
    {
     "data": {
      "image/png": "[encoded data removed]",
      "text/plain": [
       "<Figure size 640x480 with 1 Axes>"
      ]
     },
     "metadata": {},
     "output_type": "display_data"
    }
   ],
   "source": [
    "plt.bar(combined_labels.unique(), tr['Image Label'].value_counts())\n",
    "plt.show()"
   ]
  },
  {
   "cell_type": "code",
   "execution_count": 34,
   "metadata": {},
   "outputs": [
    {
     "data": {
      "text/html": [
       "<div>\n",
       "<style scoped>\n",
       "    .dataframe tbody tr th:only-of-type {\n",
       "        vertical-align: middle;\n",
       "    }\n",
       "\n",
       "    .dataframe tbody tr th {\n",
       "        vertical-align: top;\n",
       "    }\n",
       "\n",
       "    .dataframe thead th {\n",
       "        text-align: right;\n",
       "    }\n",
       "</style>\n",
       "<table border=\"1\" class=\"dataframe\">\n",
       "  <thead>\n",
       "    <tr style=\"text-align: right;\">\n",
       "      <th></th>\n",
       "      <th>File Path</th>\n",
       "      <th>Image Label</th>\n",
       "    </tr>\n",
       "  </thead>\n",
       "  <tbody>\n",
       "    <tr>\n",
       "      <th>0</th>\n",
       "      <td>/home/abinand-balajee/Documents/Artificial Int...</td>\n",
       "      <td>sunrise</td>\n",
       "    </tr>\n",
       "    <tr>\n",
       "      <th>1</th>\n",
       "      <td>/home/abinand-balajee/Documents/Artificial Int...</td>\n",
       "      <td>cloudy</td>\n",
       "    </tr>\n",
       "    <tr>\n",
       "      <th>2</th>\n",
       "      <td>/home/abinand-balajee/Documents/Artificial Int...</td>\n",
       "      <td>shine</td>\n",
       "    </tr>\n",
       "    <tr>\n",
       "      <th>3</th>\n",
       "      <td>/home/abinand-balajee/Documents/Artificial Int...</td>\n",
       "      <td>rain</td>\n",
       "    </tr>\n",
       "    <tr>\n",
       "      <th>4</th>\n",
       "      <td>/home/abinand-balajee/Documents/Artificial Int...</td>\n",
       "      <td>rain</td>\n",
       "    </tr>\n",
       "    <tr>\n",
       "      <th>5</th>\n",
       "      <td>/home/abinand-balajee/Documents/Artificial Int...</td>\n",
       "      <td>cloudy</td>\n",
       "    </tr>\n",
       "    <tr>\n",
       "      <th>6</th>\n",
       "      <td>/home/abinand-balajee/Documents/Artificial Int...</td>\n",
       "      <td>sunrise</td>\n",
       "    </tr>\n",
       "    <tr>\n",
       "      <th>7</th>\n",
       "      <td>/home/abinand-balajee/Documents/Artificial Int...</td>\n",
       "      <td>sunrise</td>\n",
       "    </tr>\n",
       "    <tr>\n",
       "      <th>8</th>\n",
       "      <td>/home/abinand-balajee/Documents/Artificial Int...</td>\n",
       "      <td>sunrise</td>\n",
       "    </tr>\n",
       "    <tr>\n",
       "      <th>9</th>\n",
       "      <td>/home/abinand-balajee/Documents/Artificial Int...</td>\n",
       "      <td>sunrise</td>\n",
       "    </tr>\n",
       "  </tbody>\n",
       "</table>\n",
       "</div>"
      ],
      "text/plain": [
       "                                           File Path Image Label\n",
       "0  /home/abinand-balajee/Documents/Artificial Int...     sunrise\n",
       "1  /home/abinand-balajee/Documents/Artificial Int...      cloudy\n",
       "2  /home/abinand-balajee/Documents/Artificial Int...       shine\n",
       "3  /home/abinand-balajee/Documents/Artificial Int...        rain\n",
       "4  /home/abinand-balajee/Documents/Artificial Int...        rain\n",
       "5  /home/abinand-balajee/Documents/Artificial Int...      cloudy\n",
       "6  /home/abinand-balajee/Documents/Artificial Int...     sunrise\n",
       "7  /home/abinand-balajee/Documents/Artificial Int...     sunrise\n",
       "8  /home/abinand-balajee/Documents/Artificial Int...     sunrise\n",
       "9  /home/abinand-balajee/Documents/Artificial Int...     sunrise"
      ]
     },
     "execution_count": 34,
     "metadata": {},
     "output_type": "execute_result"
    }
   ],
   "source": [
    "val.head(10)"
   ]
  },
  {
   "cell_type": "code",
   "execution_count": 35,
   "metadata": {},
   "outputs": [
    {
     "data": {
      "image/png": "[encoded data removed]",
      "text/plain": [
       "<Figure size 640x480 with 1 Axes>"
      ]
     },
     "metadata": {},
     "output_type": "display_data"
    }
   ],
   "source": [
    "plt.bar(combined_labels.unique(), val['Image Label'].value_counts())\n",
    "plt.show()"
   ]
  },
  {
   "cell_type": "code",
   "execution_count": 36,
   "metadata": {},
   "outputs": [
    {
     "data": {
      "text/html": [
       "<div>\n",
       "<style scoped>\n",
       "    .dataframe tbody tr th:only-of-type {\n",
       "        vertical-align: middle;\n",
       "    }\n",
       "\n",
       "    .dataframe tbody tr th {\n",
       "        vertical-align: top;\n",
       "    }\n",
       "\n",
       "    .dataframe thead th {\n",
       "        text-align: right;\n",
       "    }\n",
       "</style>\n",
       "<table border=\"1\" class=\"dataframe\">\n",
       "  <thead>\n",
       "    <tr style=\"text-align: right;\">\n",
       "      <th></th>\n",
       "      <th>File Path</th>\n",
       "      <th>Image Label</th>\n",
       "    </tr>\n",
       "  </thead>\n",
       "  <tbody>\n",
       "    <tr>\n",
       "      <th>0</th>\n",
       "      <td>/home/abinand-balajee/Documents/Artificial Int...</td>\n",
       "      <td>rain</td>\n",
       "    </tr>\n",
       "    <tr>\n",
       "      <th>1</th>\n",
       "      <td>/home/abinand-balajee/Documents/Artificial Int...</td>\n",
       "      <td>sunrise</td>\n",
       "    </tr>\n",
       "    <tr>\n",
       "      <th>2</th>\n",
       "      <td>/home/abinand-balajee/Documents/Artificial Int...</td>\n",
       "      <td>sunrise</td>\n",
       "    </tr>\n",
       "    <tr>\n",
       "      <th>3</th>\n",
       "      <td>/home/abinand-balajee/Documents/Artificial Int...</td>\n",
       "      <td>sunrise</td>\n",
       "    </tr>\n",
       "    <tr>\n",
       "      <th>4</th>\n",
       "      <td>/home/abinand-balajee/Documents/Artificial Int...</td>\n",
       "      <td>sunrise</td>\n",
       "    </tr>\n",
       "    <tr>\n",
       "      <th>5</th>\n",
       "      <td>/home/abinand-balajee/Documents/Artificial Int...</td>\n",
       "      <td>sunrise</td>\n",
       "    </tr>\n",
       "    <tr>\n",
       "      <th>6</th>\n",
       "      <td>/home/abinand-balajee/Documents/Artificial Int...</td>\n",
       "      <td>sunrise</td>\n",
       "    </tr>\n",
       "    <tr>\n",
       "      <th>7</th>\n",
       "      <td>/home/abinand-balajee/Documents/Artificial Int...</td>\n",
       "      <td>sunrise</td>\n",
       "    </tr>\n",
       "    <tr>\n",
       "      <th>8</th>\n",
       "      <td>/home/abinand-balajee/Documents/Artificial Int...</td>\n",
       "      <td>cloudy</td>\n",
       "    </tr>\n",
       "    <tr>\n",
       "      <th>9</th>\n",
       "      <td>/home/abinand-balajee/Documents/Artificial Int...</td>\n",
       "      <td>shine</td>\n",
       "    </tr>\n",
       "  </tbody>\n",
       "</table>\n",
       "</div>"
      ],
      "text/plain": [
       "                                           File Path Image Label\n",
       "0  /home/abinand-balajee/Documents/Artificial Int...        rain\n",
       "1  /home/abinand-balajee/Documents/Artificial Int...     sunrise\n",
       "2  /home/abinand-balajee/Documents/Artificial Int...     sunrise\n",
       "3  /home/abinand-balajee/Documents/Artificial Int...     sunrise\n",
       "4  /home/abinand-balajee/Documents/Artificial Int...     sunrise\n",
       "5  /home/abinand-balajee/Documents/Artificial Int...     sunrise\n",
       "6  /home/abinand-balajee/Documents/Artificial Int...     sunrise\n",
       "7  /home/abinand-balajee/Documents/Artificial Int...     sunrise\n",
       "8  /home/abinand-balajee/Documents/Artificial Int...      cloudy\n",
       "9  /home/abinand-balajee/Documents/Artificial Int...       shine"
      ]
     },
     "execution_count": 36,
     "metadata": {},
     "output_type": "execute_result"
    }
   ],
   "source": [
    "te.head(10)"
   ]
  },
  {
   "cell_type": "code",
   "execution_count": 37,
   "metadata": {},
   "outputs": [
    {
     "data": {
      "image/png": "[encoded data removed]",
      "text/plain": [
       "<Figure size 640x480 with 1 Axes>"
      ]
     },
     "metadata": {},
     "output_type": "display_data"
    }
   ],
   "source": [
    "plt.bar(combined_labels.unique(), te['Image Label'].value_counts())\n",
    "plt.show()"
   ]
  },
  {
   "cell_type": "markdown",
   "metadata": {
    "id": "T04RQSn6fnF2"
   },
   "source": [
    "### 1.2 - preprocessing and preparation (2 marks)\n",
    "\n",
    "Use TensorFlow's `TextLineDataset` to generate datasets for training, validation, and test. The datasets need to produce images that are re-sized to dimensions 230 x 230 and 3 channels, and the values of the pixels must be normalised to the range [0, 1].\n"
   ]
  },
  {
   "cell_type": "code",
   "execution_count": 38,
   "metadata": {},
   "outputs": [],
   "source": [
    "Height = 230\n",
    "Width = 230\n",
    "Channels = 3\n",
    "Class_names = [\"cloudy\", \"rain\", \"shine\", \"sunrise\"]\n",
    "def read_and_decode(filename, reshape_dims):\n",
    "    # Read the file\n",
    "    img = tf.io.read_file(filename)\n",
    "    \n",
    "    # Convert the compressed string to a 3D uint8 tensor\n",
    "    img = tf.io.decode_image(img, channels=Channels, expand_animations=False)\n",
    "    \n",
    "    # Use `convert_image_dtype` to convert to floats in the [0,1] range\n",
    "    img = tf.image.convert_image_dtype(img, tf.float32)\n",
    "    \n",
    "    # Resize the image to the desired size\n",
    "    return tf.image.resize(img, reshape_dims)\n",
    "# decode_csv changed so that the label is the index into CLASS_NAMES array\n",
    "def decode_csv(csv_row):\n",
    "  record_defaults = [\"path\", \"weather\"]\n",
    "  filename, label_string = tf.io.decode_csv(csv_row, record_defaults)\n",
    "  img = read_and_decode(filename, [Height, Width])\n",
    "  label = tf.math.equal(Class_names, label_string) # to use with categorical crossentropy loss\n",
    "  #label = tf.argmax(tf.math.equal(CLASS_NAMES, label_string)) # to use with sparse categorical crossentropy loss\n",
    "  return img, label\n",
    "\n",
    "train_dataset = (tf.data.TextLineDataset(\n",
    "    \"training_given.csv\").\n",
    "    map(decode_csv)).batch(10)\n",
    "val_dataset = (tf.data.TextLineDataset(\n",
    "    \"validation_given.csv\").\n",
    "    map(decode_csv)).batch(10)\n",
    "test_dataset = (tf.data.TextLineDataset(\n",
    "    \"test_given.csv\").\n",
    "    map(decode_csv)).batch(10)"
   ]
  },
  {
   "cell_type": "markdown",
   "metadata": {
    "id": "kJMFW8x2fnF5"
   },
   "source": [
    "## Task 2 - A simple classifier (4 marks)\n",
    "\n",
    "### 2.1 First classifier (1 mark)\n",
    "\n",
    "Create a simple model that contains the following layers:\n",
    "\n",
    "- A `Flatten` layer.\n",
    "- The output layer with the correct size and activation function for this classification task.\n",
    "\n",
    "Then, train the model with the training data. Use the validation data to determine when to stop training. Finally, test the trained model on the test data and report the accuracy."
   ]
  },
  {
   "cell_type": "code",
   "execution_count": 61,
   "metadata": {},
   "outputs": [
    {
     "name": "stdout",
     "output_type": "stream",
     "text": [
      "Reloading Tuner from tuner_results/simple_classifier/tuner0.json\n"
     ]
    }
   ],
   "source": [
    "def build_model(hp):\n",
    "    model = tf.keras.Sequential()\n",
    "    model.add(Flatten(input_shape=(Height, Width, Channels)))\n",
    "    \n",
    "    units = hp.Int('units', min_value=32, max_value=512, step=32, default=128)\n",
    "   \n",
    "    model.add(layers.Dense(len(Class_names), activation='softmax'))\n",
    "\n",
    "    learning_rate = hp.Float('learning_rate', min_value=1e-4, max_value=1e-2, sampling='log', default=1e-3)\n",
    "\n",
    "    model.compile(optimizer=tf.keras.optimizers.Adam(learning_rate=learning_rate),\n",
    "                  loss='categorical_crossentropy',\n",
    "                  metrics=['accuracy'])\n",
    "\n",
    "    return model\n",
    "\n",
    "tuner = RandomSearch(\n",
    "    build_model,\n",
    "    objective='val_accuracy',\n",
    "    max_trials=5,\n",
    "    executions_per_trial=2,\n",
    "    directory='tuner_results',\n",
    "    project_name='simple_classifier')\n",
    "\n",
    "tuner.search(train_dataset,\n",
    "             validation_data=val_dataset,\n",
    "             epochs=10)\n",
    "\n",
    "best_model_1 = tuner.get_best_models(num_models=1)[0]"
   ]
  },
  {
   "cell_type": "code",
   "execution_count": 40,
   "metadata": {},
   "outputs": [
    {
     "name": "stdout",
     "output_type": "stream",
     "text": [
      "Model: \"sequential\"\n",
      "_________________________________________________________________\n",
      " Layer (type)                Output Shape              Param #   \n",
      "=================================================================\n",
      " flatten (Flatten)           (None, 158700)            0         \n",
      "                                                                 \n",
      " dense (Dense)               (None, 4)                 634804    \n",
      "                                                                 \n",
      "=================================================================\n",
      "Total params: 634,804\n",
      "Trainable params: 634,804\n",
      "Non-trainable params: 0\n",
      "_________________________________________________________________\n"
     ]
    }
   ],
   "source": [
    "best_model_1.summary()"
   ]
  },
  {
   "cell_type": "code",
   "execution_count": 41,
   "metadata": {},
   "outputs": [
    {
     "name": "stderr",
     "output_type": "stream",
     "text": [
      "2024-04-04 02:38:15.331258: I tensorflow/core/common_runtime/executor.cc:1197] [/device:CPU:0] (DEBUG INFO) Executor start aborting (this does not indicate an error and you can ignore this message): INVALID_ARGUMENT: You must feed a value for placeholder tensor 'Placeholder/_0' with dtype string and shape [1]\n",
      "\t [[{{node Placeholder/_0}}]]\n"
     ]
    },
    {
     "name": "stdout",
     "output_type": "stream",
     "text": [
      "17/17 [==============================] - 1s 20ms/step - loss: 37.7905 - accuracy: 0.8047\n",
      "Test accuracy: 0.8047337532043457\n"
     ]
    }
   ],
   "source": [
    "test_loss, test_accuracy = best_model_1.evaluate(test_dataset)\n",
    "\n",
    "print(\"Test accuracy:\", test_accuracy)"
   ]
  },
  {
   "cell_type": "code",
   "execution_count": 62,
   "metadata": {},
   "outputs": [
    {
     "name": "stdout",
     "output_type": "stream",
     "text": [
      "17/17 [==============================] - 0s 22ms/step\n",
      "Accuracy for class cloudy: 0.86\n",
      "Accuracy for class rain: 0.59\n",
      "Accuracy for class shine: 0.77\n",
      "Accuracy for class sunrise: 0.92\n"
     ]
    }
   ],
   "source": [
    "import numpy as np\n",
    "\n",
    "predictions = best_model_1.predict(test_dataset)\n",
    "\n",
    "predicted_labels = np.argmax(predictions, axis=1)\n",
    "\n",
    "true_labels = np.concatenate([y for x, y in test_dataset], axis=0)\n",
    "true_labels = np.argmax(true_labels, axis=1)\n",
    "\n",
    "class_accuracies = {}\n",
    "for i in range(len(Class_names)):\n",
    "    class_indices = np.where(true_labels == i)[0]\n",
    "    class_accuracy = np.mean(predicted_labels[class_indices] == true_labels[class_indices])\n",
    "    class_accuracies[Class_names[i]] = class_accuracy\n",
    "\n",
    "# Print accuracy for each class\n",
    "for class_name, accuracy in class_accuracies.items():\n",
    "    print(f\"Accuracy for class {class_name}: {accuracy:.2f}\")"
   ]
  },
  {
   "cell_type": "markdown",
   "metadata": {
    "id": "M7x5pFFXfnF6"
   },
   "source": [
    "### 2.2 A more complex classifier (2 marks)\n",
    "\n",
    "Try a more complex architecture that has 1 or more hidden layers with dropout. For this more complex architecture, use `keras-tuner` and run it with a reasonable choice of possible parameters. You may try among the following:\n",
    "\n",
    "- Number of hidden layers\n",
    "- Sizes of hidden layers\n",
    "- Dropout rate\n",
    "- Learning rate"
   ]
  },
  {
   "cell_type": "code",
   "execution_count": 43,
   "metadata": {
    "id": "zHw8Ei04fnF7"
   },
   "outputs": [
    {
     "name": "stdout",
     "output_type": "stream",
     "text": [
      "Reloading Tuner from tuner_results/complex_classifier/tuner0.json\n",
      "Model: \"sequential\"\n",
      "_________________________________________________________________\n",
      " Layer (type)                Output Shape              Param #   \n",
      "=================================================================\n",
      " flatten (Flatten)           (None, 158700)            0         \n",
      "                                                                 \n",
      " dense (Dense)               (None, 256)               40627456  \n",
      "                                                                 \n",
      " dropout (Dropout)           (None, 256)               0         \n",
      "                                                                 \n",
      " dense_1 (Dense)             (None, 4)                 1028      \n",
      "                                                                 \n",
      "=================================================================\n",
      "Total params: 40,628,484\n",
      "Trainable params: 40,628,484\n",
      "Non-trainable params: 0\n",
      "_________________________________________________________________\n"
     ]
    }
   ],
   "source": [
    "def build_model(hp):\n",
    "    model = tf.keras.Sequential()\n",
    "    model.add(Flatten(input_shape=(Height, Width, Channels)))\n",
    "\n",
    "    num_hidden_layers = hp.Int('num_hidden_layers', min_value=1, max_value=3, default=2)\n",
    "\n",
    "    for i in range(num_hidden_layers):\n",
    "        units = hp.Int(f'units_{i}', min_value=32, max_value=512, step=32, default=128)\n",
    "        model.add(layers.Dense(units=units, activation='relu'))\n",
    "        dropout_rate = hp.Float(f'dropout_{i}', min_value=0.0, max_value=0.5, default=0.2)\n",
    "        model.add(layers.Dropout(dropout_rate))\n",
    "\n",
    "    model.add(layers.Dense(len(Class_names), activation='softmax'))\n",
    "\n",
    "    learning_rate = hp.Float('learning_rate', min_value=1e-4, max_value=1e-2, sampling='log', default=1e-3)\n",
    "\n",
    "    model.compile(optimizer=tf.keras.optimizers.Adam(learning_rate=learning_rate),\n",
    "                  loss='categorical_crossentropy',\n",
    "                  metrics=['accuracy'])\n",
    "\n",
    "    return model\n",
    "\n",
    "tuner = RandomSearch(\n",
    "    build_model,\n",
    "    objective='val_accuracy',\n",
    "    max_trials=5,\n",
    "    executions_per_trial=2,\n",
    "    directory='tuner_results',\n",
    "    project_name='complex_classifier')\n",
    "\n",
    "tuner.search(train_dataset,\n",
    "             validation_data=val_dataset,\n",
    "             epochs=10)\n",
    "\n",
    "best_model_2 = tuner.get_best_models(num_models=1)[0]\n",
    "best_model_2.summary()"
   ]
  },
  {
   "cell_type": "code",
   "execution_count": 44,
   "metadata": {},
   "outputs": [
    {
     "name": "stdout",
     "output_type": "stream",
     "text": [
      "Best hyperparameters:\n",
      "num_hidden_layers: 1\n",
      "units_0: 256\n",
      "dropout_0: 0.051837272096657616\n",
      "units_1: 256\n",
      "dropout_1: 0.36277478704679\n",
      "learning_rate: 0.000212916243290288\n",
      "units_2: 160\n",
      "dropout_2: 0.12523988619665088\n"
     ]
    }
   ],
   "source": [
    "best_hyperparameters = tuner.oracle.get_best_trials(num_trials=1)[0].hyperparameters.values\n",
    "\n",
    "print(\"Best hyperparameters:\")\n",
    "for param, value in best_hyperparameters.items():\n",
    "    print(f\"{param}: {value}\")"
   ]
  },
  {
   "cell_type": "code",
   "execution_count": 47,
   "metadata": {},
   "outputs": [
    {
     "name": "stdout",
     "output_type": "stream",
     "text": [
      "17/17 [==============================] - 1s 36ms/step - loss: 0.5246 - accuracy: 0.8521\n",
      "Test accuracy: 0.8520709872245789\n"
     ]
    }
   ],
   "source": [
    "test_loss, test_accuracy = best_model_2.evaluate(test_dataset)\n",
    "\n",
    "print(\"Test accuracy:\", test_accuracy)"
   ]
  },
  {
   "cell_type": "code",
   "execution_count": 63,
   "metadata": {},
   "outputs": [
    {
     "name": "stdout",
     "output_type": "stream",
     "text": [
      "17/17 [==============================] - 1s 35ms/step\n",
      "Accuracy for class cloudy: 0.78\n",
      "Accuracy for class rain: 0.88\n",
      "Accuracy for class shine: 0.86\n",
      "Accuracy for class sunrise: 0.96\n"
     ]
    }
   ],
   "source": [
    "predictions = best_model_2.predict(test_dataset)\n",
    "\n",
    "predicted_labels = np.argmax(predictions, axis=1)\n",
    "\n",
    "true_labels = np.concatenate([y for x, y in test_dataset], axis=0)\n",
    "true_labels = np.argmax(true_labels, axis=1)\n",
    "\n",
    "class_accuracies = {}\n",
    "for i in range(len(Class_names)):\n",
    "    class_indices = np.where(true_labels == i)[0]\n",
    "    class_accuracy = np.mean(predicted_labels[class_indices] == true_labels[class_indices])\n",
    "    class_accuracies[Class_names[i]] = class_accuracy\n",
    "\n",
    "for class_name, accuracy in class_accuracies.items():\n",
    "    print(f\"Accuracy for class {class_name}: {accuracy:.2f}\")"
   ]
  },
  {
   "cell_type": "markdown",
   "metadata": {
    "id": "71dBL-k0fnF8"
   },
   "source": [
    "I had run a Hyperparameter tuner to choose the best model. The validation set was used for this process. The hyperparameters The tuner looked for are learning rate, units(number of units in a layer), Number of hidden layers and droupout rate. The optimal hyperparameters according to the tuner are :\n",
    "- num_hidden_layers: 1\n",
    "- units(number of neurons): 256\n",
    "- dropout rate : 0.051837272096657616\n",
    "- learning rate : 0.000212916243290288\n"
   ]
  },
  {
   "cell_type": "markdown",
   "metadata": {
    "id": "lsM7wXbIfnF9"
   },
   "source": [
    "### 2.3 Error analysis (1 mark)\n",
    "\n",
    "Evaluate your best-performing system from task 2 against the system of task 1 and answer the following questions.\n",
    "\n",
    "1. Which system had a better accuracy on the test data?\n",
    "2. Which system had a lower degree of overfitting?"
   ]
  },
  {
   "cell_type": "markdown",
   "metadata": {},
   "source": [
    "The complex classifier with 1 hidden layer gave the best accuracty on the test data which was 0.85 compared to the simple classifier which gave an accuracy score of 0.80"
   ]
  },
  {
   "cell_type": "code",
   "execution_count": 49,
   "metadata": {},
   "outputs": [],
   "source": [
    "global_seed = 42\n",
    "tf.random.set_seed(global_seed)\n",
    "np.random.seed(global_seed)"
   ]
  },
  {
   "cell_type": "code",
   "execution_count": 57,
   "metadata": {},
   "outputs": [
    {
     "name": "stdout",
     "output_type": "stream",
     "text": [
      "Epoch 1/10\n",
      "79/79 [==============================] - 4s 51ms/step - loss: 71.0702 - accuracy: 0.7708 - val_loss: 99.5070 - val_accuracy: 0.7126\n",
      "Epoch 2/10\n",
      "79/79 [==============================] - 4s 47ms/step - loss: 103.4049 - accuracy: 0.7439 - val_loss: 85.5124 - val_accuracy: 0.7904\n",
      "Epoch 3/10\n",
      "79/79 [==============================] - 4s 49ms/step - loss: 61.8697 - accuracy: 0.8195 - val_loss: 105.4995 - val_accuracy: 0.6946\n",
      "Epoch 4/10\n",
      "79/79 [==============================] - 4s 50ms/step - loss: 46.8977 - accuracy: 0.8335 - val_loss: 120.2170 - val_accuracy: 0.7006\n",
      "Epoch 5/10\n",
      "79/79 [==============================] - 4s 49ms/step - loss: 56.3878 - accuracy: 0.8246 - val_loss: 71.3137 - val_accuracy: 0.7844\n",
      "Epoch 6/10\n",
      "79/79 [==============================] - 4s 50ms/step - loss: 48.0785 - accuracy: 0.8387 - val_loss: 115.9357 - val_accuracy: 0.6707\n",
      "Epoch 7/10\n",
      "79/79 [==============================] - 4s 49ms/step - loss: 33.6166 - accuracy: 0.8643 - val_loss: 71.8594 - val_accuracy: 0.7485\n",
      "Epoch 8/10\n",
      "79/79 [==============================] - 4s 48ms/step - loss: 43.2950 - accuracy: 0.8335 - val_loss: 73.7343 - val_accuracy: 0.7545\n",
      "Epoch 9/10\n",
      "79/79 [==============================] - 3s 43ms/step - loss: 38.9528 - accuracy: 0.8553 - val_loss: 69.4791 - val_accuracy: 0.7904\n",
      "Epoch 10/10\n",
      "79/79 [==============================] - 4s 45ms/step - loss: 51.6170 - accuracy: 0.8335 - val_loss: 83.9066 - val_accuracy: 0.7784\n"
     ]
    },
    {
     "data": {
      "image/png": "[encoded data removed]",
      "text/plain": [
       "<Figure size 640x480 with 1 Axes>"
      ]
     },
     "metadata": {},
     "output_type": "display_data"
    }
   ],
   "source": [
    "history = best_model_1.fit(train_dataset, epochs=10, validation_data=val_dataset)\n",
    "\n",
    "plt.plot(history.history['loss'], label='Training Loss')\n",
    "plt.plot(history.history['val_loss'], label='Validation Loss')\n",
    "plt.xlabel('Epochs')\n",
    "plt.ylabel('Loss')\n",
    "plt.legend()\n",
    "plt.show()"
   ]
  },
  {
   "cell_type": "code",
   "execution_count": 58,
   "metadata": {},
   "outputs": [
    {
     "name": "stdout",
     "output_type": "stream",
     "text": [
      "Epoch 1/10\n",
      "79/79 [==============================] - 31s 389ms/step - loss: 0.4250 - accuracy: 0.8195 - val_loss: 0.6214 - val_accuracy: 0.7904\n",
      "Epoch 2/10\n",
      "79/79 [==============================] - 31s 386ms/step - loss: 0.4038 - accuracy: 0.8451 - val_loss: 0.7163 - val_accuracy: 0.7485\n",
      "Epoch 3/10\n",
      "79/79 [==============================] - 30s 383ms/step - loss: 0.4869 - accuracy: 0.7951 - val_loss: 0.6967 - val_accuracy: 0.7844\n",
      "Epoch 4/10\n",
      "79/79 [==============================] - 30s 385ms/step - loss: 0.4070 - accuracy: 0.8387 - val_loss: 0.7351 - val_accuracy: 0.7725\n",
      "Epoch 5/10\n",
      "79/79 [==============================] - 31s 386ms/step - loss: 0.4037 - accuracy: 0.8143 - val_loss: 0.6858 - val_accuracy: 0.7784\n",
      "Epoch 6/10\n",
      "79/79 [==============================] - 31s 388ms/step - loss: 0.3996 - accuracy: 0.8489 - val_loss: 0.7732 - val_accuracy: 0.7545\n",
      "Epoch 7/10\n",
      "79/79 [==============================] - 31s 386ms/step - loss: 0.3623 - accuracy: 0.8630 - val_loss: 0.7451 - val_accuracy: 0.7725\n",
      "Epoch 8/10\n",
      "79/79 [==============================] - 31s 386ms/step - loss: 0.3570 - accuracy: 0.8604 - val_loss: 0.7151 - val_accuracy: 0.7964\n",
      "Epoch 9/10\n",
      "79/79 [==============================] - 30s 384ms/step - loss: 0.3723 - accuracy: 0.8361 - val_loss: 0.7108 - val_accuracy: 0.8024\n",
      "Epoch 10/10\n",
      "79/79 [==============================] - 31s 386ms/step - loss: 0.3068 - accuracy: 0.8937 - val_loss: 0.6879 - val_accuracy: 0.8024\n"
     ]
    },
    {
     "data": {
      "image/png": "[encoded data removed]",
      "text/plain": [
       "<Figure size 640x480 with 1 Axes>"
      ]
     },
     "metadata": {},
     "output_type": "display_data"
    }
   ],
   "source": [
    "import matplotlib.pyplot as plt\n",
    "\n",
    "history = best_model_2.fit(train_dataset, epochs=10, validation_data=val_dataset)\n",
    "\n",
    "plt.plot(history.history['loss'], label='Training Loss')\n",
    "plt.plot(history.history['val_loss'], label='Validation Loss')\n",
    "plt.xlabel('Epochs')\n",
    "plt.ylabel('Loss')\n",
    "plt.legend()\n",
    "plt.show()"
   ]
  },
  {
   "cell_type": "markdown",
   "metadata": {},
   "source": [
    "The complex classifier model had a lower degree of overfitting as the training loss decreased along with the validation loss while the validation loss in the simple classifier model increased while the training loss decreased."
   ]
  },
  {
   "cell_type": "markdown",
   "metadata": {
    "id": "qJgTJjhUfnF9"
   },
   "source": [
    "## Task 3 - A more complex classifier (5 marks)\n",
    "\n",
    "### Task 3.1 Using ConvNets (2 marks)\n",
    "\n",
    "Implement a model that uses a sequence of at least two `ConvD`, each one followed with `MaxPooling2D`. Use reasonable numbers for the hyperparameters (number of filters, kernel size, pool size, activation, etc), base on what we have seen in the lectures. Feel free to research the internet and / or generative AI to help you find a reasonable choice of hyperparameters. For this task, do not use pre-trained models."
   ]
  },
  {
   "cell_type": "code",
   "execution_count": 53,
   "metadata": {
    "id": "tvZQQPSJfnF-"
   },
   "outputs": [
    {
     "name": "stdout",
     "output_type": "stream",
     "text": [
      "Model: \"sequential_1\"\n",
      "_________________________________________________________________\n",
      " Layer (type)                Output Shape              Param #   \n",
      "=================================================================\n",
      " conv2d (Conv2D)             (None, 230, 230, 32)      896       \n",
      "                                                                 \n",
      " max_pooling2d (MaxPooling2D  (None, 115, 115, 32)     0         \n",
      " )                                                               \n",
      "                                                                 \n",
      " conv2d_1 (Conv2D)           (None, 115, 115, 64)      18496     \n",
      "                                                                 \n",
      " max_pooling2d_1 (MaxPooling  (None, 57, 57, 64)       0         \n",
      " 2D)                                                             \n",
      "                                                                 \n",
      " flatten_1 (Flatten)         (None, 207936)            0         \n",
      "                                                                 \n",
      " dense_2 (Dense)             (None, 128)               26615936  \n",
      "                                                                 \n",
      " dense_3 (Dense)             (None, 4)                 516       \n",
      "                                                                 \n",
      "=================================================================\n",
      "Total params: 26,635,844\n",
      "Trainable params: 26,635,844\n",
      "Non-trainable params: 0\n",
      "_________________________________________________________________\n",
      "Epoch 1/10\n",
      "79/79 [==============================] - 36s 455ms/step - loss: 1.2905 - accuracy: 0.6031 - val_loss: 0.9411 - val_accuracy: 0.6647\n",
      "Epoch 2/10\n",
      "79/79 [==============================] - 35s 448ms/step - loss: 0.5773 - accuracy: 0.7913 - val_loss: 0.6318 - val_accuracy: 0.8144\n",
      "Epoch 3/10\n",
      "79/79 [==============================] - 35s 449ms/step - loss: 0.4222 - accuracy: 0.8425 - val_loss: 0.7412 - val_accuracy: 0.8024\n",
      "Epoch 4/10\n",
      "79/79 [==============================] - 35s 444ms/step - loss: 0.3270 - accuracy: 0.8681 - val_loss: 0.6965 - val_accuracy: 0.7964\n",
      "Epoch 5/10\n",
      "79/79 [==============================] - 36s 450ms/step - loss: 0.2514 - accuracy: 0.9052 - val_loss: 0.7979 - val_accuracy: 0.8563\n",
      "Epoch 6/10\n",
      "79/79 [==============================] - 35s 438ms/step - loss: 0.2017 - accuracy: 0.9296 - val_loss: 0.9787 - val_accuracy: 0.7725\n",
      "Epoch 7/10\n",
      "79/79 [==============================] - 35s 439ms/step - loss: 0.2254 - accuracy: 0.9309 - val_loss: 1.0165 - val_accuracy: 0.7784\n",
      "Epoch 8/10\n",
      "79/79 [==============================] - 35s 446ms/step - loss: 0.1779 - accuracy: 0.9385 - val_loss: 0.7127 - val_accuracy: 0.8383\n",
      "Epoch 9/10\n",
      "79/79 [==============================] - 35s 444ms/step - loss: 0.1186 - accuracy: 0.9565 - val_loss: 0.6635 - val_accuracy: 0.8503\n",
      "Epoch 10/10\n",
      "79/79 [==============================] - 35s 447ms/step - loss: 0.1128 - accuracy: 0.9552 - val_loss: 1.1124 - val_accuracy: 0.8263\n"
     ]
    }
   ],
   "source": [
    "conv_model = tf.keras.Sequential([\n",
    "    layers.Conv2D(filters=32, kernel_size=(3, 3), activation='relu', padding='same', input_shape=(Height, Width, Channels)),\n",
    "    layers.MaxPooling2D(pool_size=(2, 2)),\n",
    "    \n",
    "    layers.Conv2D(filters=64, kernel_size=(3, 3), activation='relu', padding='same'),\n",
    "    layers.MaxPooling2D(pool_size=(2, 2)),\n",
    "    \n",
    "    layers.Flatten(),\n",
    "    \n",
    "    layers.Dense(128, activation='relu'),\n",
    "    layers.Dense(len(Class_names), activation='softmax')\n",
    "])\n",
    "\n",
    "conv_model.compile(optimizer='adam',\n",
    "              loss='categorical_crossentropy',\n",
    "              metrics=['accuracy'])\n",
    "\n",
    "conv_model.summary()\n",
    "history = conv_model.fit(train_dataset, epochs=10, validation_data=val_dataset)"
   ]
  },
  {
   "cell_type": "code",
   "execution_count": 54,
   "metadata": {},
   "outputs": [
    {
     "name": "stdout",
     "output_type": "stream",
     "text": [
      "17/17 [==============================] - 2s 91ms/step - loss: 0.2998 - accuracy: 0.8817\n",
      "Test Accuracy: 0.88165682554245\n"
     ]
    }
   ],
   "source": [
    "test_loss, test_accuracy = conv_model.evaluate(test_dataset)\n",
    "print(\"Test Accuracy:\", test_accuracy)"
   ]
  },
  {
   "cell_type": "code",
   "execution_count": 55,
   "metadata": {},
   "outputs": [
    {
     "name": "stdout",
     "output_type": "stream",
     "text": [
      "17/17 [==============================] - 1s 74ms/step\n",
      "Accuracy for class cloudy: 0.67\n",
      "Accuracy for class rain: 0.91\n",
      "Accuracy for class shine: 1.00\n",
      "Accuracy for class sunrise: 1.00\n"
     ]
    }
   ],
   "source": [
    "predictions = conv_model.predict(test_dataset)\n",
    "\n",
    "predicted_labels = np.argmax(predictions, axis=1)\n",
    "\n",
    "true_labels = np.concatenate([y for x, y in test_dataset], axis=0)\n",
    "true_labels = np.argmax(true_labels, axis=1)\n",
    "\n",
    "class_accuracies = {}\n",
    "for i in range(len(Class_names)):\n",
    "    class_indices = np.where(true_labels == i)[0]\n",
    "    class_accuracy = np.mean(predicted_labels[class_indices] == true_labels[class_indices])\n",
    "    class_accuracies[Class_names[i]] = class_accuracy\n",
    "\n",
    "for class_name, accuracy in class_accuracies.items():\n",
    "    print(f\"Accuracy for class {class_name}: {accuracy:.2f}\")"
   ]
  },
  {
   "cell_type": "markdown",
   "metadata": {
    "id": "152E3mgdfnF_"
   },
   "source": [
    "### Task 3.2 Using pre-trained models (2 marks)\n",
    "\n",
    "Use MobileNet, pre-trained on imagenet as discussed in the lectures. Add the correct classification layer, and train it with your data. Make sure that you freeze MobileNet's weights during training. Also, make sure you use a reasonable schedule for the learning rate."
   ]
  },
  {
   "cell_type": "code",
   "execution_count": 59,
   "metadata": {
    "id": "FOeToHlyfnF_"
   },
   "outputs": [
    {
     "name": "stdout",
     "output_type": "stream",
     "text": [
      "WARNING:tensorflow:`input_shape` is undefined or non-square, or `rows` is not in [128, 160, 192, 224]. Weights for input shape (224, 224) will be loaded as the default.\n",
      "Model: \"model\"\n",
      "_________________________________________________________________\n",
      " Layer (type)                Output Shape              Param #   \n",
      "=================================================================\n",
      " input_1 (InputLayer)        [(None, 230, 230, 3)]     0         \n",
      "                                                                 \n",
      " conv1 (Conv2D)              (None, 115, 115, 32)      864       \n",
      "                                                                 \n",
      " conv1_bn (BatchNormalizatio  (None, 115, 115, 32)     128       \n",
      " n)                                                              \n",
      "                                                                 \n",
      " conv1_relu (ReLU)           (None, 115, 115, 32)      0         \n",
      "                                                                 \n",
      " conv_dw_1 (DepthwiseConv2D)  (None, 115, 115, 32)     288       \n",
      "                                                                 \n",
      " conv_dw_1_bn (BatchNormaliz  (None, 115, 115, 32)     128       \n",
      " ation)                                                          \n",
      "                                                                 \n",
      " conv_dw_1_relu (ReLU)       (None, 115, 115, 32)      0         \n",
      "                                                                 \n",
      " conv_pw_1 (Conv2D)          (None, 115, 115, 64)      2048      \n",
      "                                                                 \n",
      " conv_pw_1_bn (BatchNormaliz  (None, 115, 115, 64)     256       \n",
      " ation)                                                          \n",
      "                                                                 \n",
      " conv_pw_1_relu (ReLU)       (None, 115, 115, 64)      0         \n",
      "                                                                 \n",
      " conv_pad_2 (ZeroPadding2D)  (None, 116, 116, 64)      0         \n",
      "                                                                 \n",
      " conv_dw_2 (DepthwiseConv2D)  (None, 57, 57, 64)       576       \n",
      "                                                                 \n",
      " conv_dw_2_bn (BatchNormaliz  (None, 57, 57, 64)       256       \n",
      " ation)                                                          \n",
      "                                                                 \n",
      " conv_dw_2_relu (ReLU)       (None, 57, 57, 64)        0         \n",
      "                                                                 \n",
      " conv_pw_2 (Conv2D)          (None, 57, 57, 128)       8192      \n",
      "                                                                 \n",
      " conv_pw_2_bn (BatchNormaliz  (None, 57, 57, 128)      512       \n",
      " ation)                                                          \n",
      "                                                                 \n",
      " conv_pw_2_relu (ReLU)       (None, 57, 57, 128)       0         \n",
      "                                                                 \n",
      " conv_dw_3 (DepthwiseConv2D)  (None, 57, 57, 128)      1152      \n",
      "                                                                 \n",
      " conv_dw_3_bn (BatchNormaliz  (None, 57, 57, 128)      512       \n",
      " ation)                                                          \n",
      "                                                                 \n",
      " conv_dw_3_relu (ReLU)       (None, 57, 57, 128)       0         \n",
      "                                                                 \n",
      " conv_pw_3 (Conv2D)          (None, 57, 57, 128)       16384     \n",
      "                                                                 \n",
      " conv_pw_3_bn (BatchNormaliz  (None, 57, 57, 128)      512       \n",
      " ation)                                                          \n",
      "                                                                 \n",
      " conv_pw_3_relu (ReLU)       (None, 57, 57, 128)       0         \n",
      "                                                                 \n",
      " conv_pad_4 (ZeroPadding2D)  (None, 58, 58, 128)       0         \n",
      "                                                                 \n",
      " conv_dw_4 (DepthwiseConv2D)  (None, 28, 28, 128)      1152      \n",
      "                                                                 \n",
      " conv_dw_4_bn (BatchNormaliz  (None, 28, 28, 128)      512       \n",
      " ation)                                                          \n",
      "                                                                 \n",
      " conv_dw_4_relu (ReLU)       (None, 28, 28, 128)       0         \n",
      "                                                                 \n",
      " conv_pw_4 (Conv2D)          (None, 28, 28, 256)       32768     \n",
      "                                                                 \n",
      " conv_pw_4_bn (BatchNormaliz  (None, 28, 28, 256)      1024      \n",
      " ation)                                                          \n",
      "                                                                 \n",
      " conv_pw_4_relu (ReLU)       (None, 28, 28, 256)       0         \n",
      "                                                                 \n",
      " conv_dw_5 (DepthwiseConv2D)  (None, 28, 28, 256)      2304      \n",
      "                                                                 \n",
      " conv_dw_5_bn (BatchNormaliz  (None, 28, 28, 256)      1024      \n",
      " ation)                                                          \n",
      "                                                                 \n",
      " conv_dw_5_relu (ReLU)       (None, 28, 28, 256)       0         \n",
      "                                                                 \n",
      " conv_pw_5 (Conv2D)          (None, 28, 28, 256)       65536     \n",
      "                                                                 \n",
      " conv_pw_5_bn (BatchNormaliz  (None, 28, 28, 256)      1024      \n",
      " ation)                                                          \n",
      "                                                                 \n",
      " conv_pw_5_relu (ReLU)       (None, 28, 28, 256)       0         \n",
      "                                                                 \n",
      " conv_pad_6 (ZeroPadding2D)  (None, 29, 29, 256)       0         \n",
      "                                                                 \n",
      " conv_dw_6 (DepthwiseConv2D)  (None, 14, 14, 256)      2304      \n",
      "                                                                 \n",
      " conv_dw_6_bn (BatchNormaliz  (None, 14, 14, 256)      1024      \n",
      " ation)                                                          \n",
      "                                                                 \n",
      " conv_dw_6_relu (ReLU)       (None, 14, 14, 256)       0         \n",
      "                                                                 \n",
      " conv_pw_6 (Conv2D)          (None, 14, 14, 512)       131072    \n",
      "                                                                 \n",
      " conv_pw_6_bn (BatchNormaliz  (None, 14, 14, 512)      2048      \n",
      " ation)                                                          \n",
      "                                                                 \n",
      " conv_pw_6_relu (ReLU)       (None, 14, 14, 512)       0         \n",
      "                                                                 \n",
      " conv_dw_7 (DepthwiseConv2D)  (None, 14, 14, 512)      4608      \n",
      "                                                                 \n",
      " conv_dw_7_bn (BatchNormaliz  (None, 14, 14, 512)      2048      \n",
      " ation)                                                          \n",
      "                                                                 \n",
      " conv_dw_7_relu (ReLU)       (None, 14, 14, 512)       0         \n",
      "                                                                 \n",
      " conv_pw_7 (Conv2D)          (None, 14, 14, 512)       262144    \n",
      "                                                                 \n",
      " conv_pw_7_bn (BatchNormaliz  (None, 14, 14, 512)      2048      \n",
      " ation)                                                          \n",
      "                                                                 \n",
      " conv_pw_7_relu (ReLU)       (None, 14, 14, 512)       0         \n",
      "                                                                 \n",
      " conv_dw_8 (DepthwiseConv2D)  (None, 14, 14, 512)      4608      \n",
      "                                                                 \n",
      " conv_dw_8_bn (BatchNormaliz  (None, 14, 14, 512)      2048      \n",
      " ation)                                                          \n",
      "                                                                 \n",
      " conv_dw_8_relu (ReLU)       (None, 14, 14, 512)       0         \n",
      "                                                                 \n",
      " conv_pw_8 (Conv2D)          (None, 14, 14, 512)       262144    \n",
      "                                                                 \n",
      " conv_pw_8_bn (BatchNormaliz  (None, 14, 14, 512)      2048      \n",
      " ation)                                                          \n",
      "                                                                 \n",
      " conv_pw_8_relu (ReLU)       (None, 14, 14, 512)       0         \n",
      "                                                                 \n",
      " conv_dw_9 (DepthwiseConv2D)  (None, 14, 14, 512)      4608      \n",
      "                                                                 \n",
      " conv_dw_9_bn (BatchNormaliz  (None, 14, 14, 512)      2048      \n",
      " ation)                                                          \n",
      "                                                                 \n",
      " conv_dw_9_relu (ReLU)       (None, 14, 14, 512)       0         \n",
      "                                                                 \n",
      " conv_pw_9 (Conv2D)          (None, 14, 14, 512)       262144    \n",
      "                                                                 \n",
      " conv_pw_9_bn (BatchNormaliz  (None, 14, 14, 512)      2048      \n",
      " ation)                                                          \n",
      "                                                                 \n",
      " conv_pw_9_relu (ReLU)       (None, 14, 14, 512)       0         \n",
      "                                                                 \n",
      " conv_dw_10 (DepthwiseConv2D  (None, 14, 14, 512)      4608      \n",
      " )                                                               \n",
      "                                                                 \n",
      " conv_dw_10_bn (BatchNormali  (None, 14, 14, 512)      2048      \n",
      " zation)                                                         \n",
      "                                                                 \n",
      " conv_dw_10_relu (ReLU)      (None, 14, 14, 512)       0         \n",
      "                                                                 \n",
      " conv_pw_10 (Conv2D)         (None, 14, 14, 512)       262144    \n",
      "                                                                 \n",
      " conv_pw_10_bn (BatchNormali  (None, 14, 14, 512)      2048      \n",
      " zation)                                                         \n",
      "                                                                 \n",
      " conv_pw_10_relu (ReLU)      (None, 14, 14, 512)       0         \n",
      "                                                                 \n",
      " conv_dw_11 (DepthwiseConv2D  (None, 14, 14, 512)      4608      \n",
      " )                                                               \n",
      "                                                                 \n",
      " conv_dw_11_bn (BatchNormali  (None, 14, 14, 512)      2048      \n",
      " zation)                                                         \n",
      "                                                                 \n",
      " conv_dw_11_relu (ReLU)      (None, 14, 14, 512)       0         \n",
      "                                                                 \n",
      " conv_pw_11 (Conv2D)         (None, 14, 14, 512)       262144    \n",
      "                                                                 \n",
      " conv_pw_11_bn (BatchNormali  (None, 14, 14, 512)      2048      \n",
      " zation)                                                         \n",
      "                                                                 \n",
      " conv_pw_11_relu (ReLU)      (None, 14, 14, 512)       0         \n",
      "                                                                 \n",
      " conv_pad_12 (ZeroPadding2D)  (None, 15, 15, 512)      0         \n",
      "                                                                 \n",
      " conv_dw_12 (DepthwiseConv2D  (None, 7, 7, 512)        4608      \n",
      " )                                                               \n",
      "                                                                 \n",
      " conv_dw_12_bn (BatchNormali  (None, 7, 7, 512)        2048      \n",
      " zation)                                                         \n",
      "                                                                 \n",
      " conv_dw_12_relu (ReLU)      (None, 7, 7, 512)         0         \n",
      "                                                                 \n",
      " conv_pw_12 (Conv2D)         (None, 7, 7, 1024)        524288    \n",
      "                                                                 \n",
      " conv_pw_12_bn (BatchNormali  (None, 7, 7, 1024)       4096      \n",
      " zation)                                                         \n",
      "                                                                 \n",
      " conv_pw_12_relu (ReLU)      (None, 7, 7, 1024)        0         \n",
      "                                                                 \n",
      " conv_dw_13 (DepthwiseConv2D  (None, 7, 7, 1024)       9216      \n",
      " )                                                               \n",
      "                                                                 \n",
      " conv_dw_13_bn (BatchNormali  (None, 7, 7, 1024)       4096      \n",
      " zation)                                                         \n",
      "                                                                 \n",
      " conv_dw_13_relu (ReLU)      (None, 7, 7, 1024)        0         \n",
      "                                                                 \n",
      " conv_pw_13 (Conv2D)         (None, 7, 7, 1024)        1048576   \n",
      "                                                                 \n",
      " conv_pw_13_bn (BatchNormali  (None, 7, 7, 1024)       4096      \n",
      " zation)                                                         \n",
      "                                                                 \n",
      " conv_pw_13_relu (ReLU)      (None, 7, 7, 1024)        0         \n",
      "                                                                 \n",
      " global_average_pooling2d (G  (None, 1024)             0         \n",
      " lobalAveragePooling2D)                                          \n",
      "                                                                 \n",
      " dense_4 (Dense)             (None, 128)               131200    \n",
      "                                                                 \n",
      " dense_5 (Dense)             (None, 4)                 516       \n",
      "                                                                 \n",
      "=================================================================\n",
      "Total params: 3,360,580\n",
      "Trainable params: 131,716\n",
      "Non-trainable params: 3,228,864\n",
      "_________________________________________________________________\n",
      "Epoch 1/10\n",
      "79/79 [==============================] - 20s 246ms/step - loss: 0.4395 - accuracy: 0.8374 - val_loss: 0.1814 - val_accuracy: 0.9461\n",
      "Epoch 2/10\n",
      "79/79 [==============================] - 19s 240ms/step - loss: 0.1071 - accuracy: 0.9706 - val_loss: 0.1419 - val_accuracy: 0.9581\n",
      "Epoch 3/10\n",
      "79/79 [==============================] - 19s 243ms/step - loss: 0.0585 - accuracy: 0.9846 - val_loss: 0.1835 - val_accuracy: 0.9461\n",
      "Epoch 4/10\n",
      "79/79 [==============================] - 19s 238ms/step - loss: 0.0415 - accuracy: 0.9885 - val_loss: 0.1776 - val_accuracy: 0.9521\n",
      "Epoch 5/10\n",
      "79/79 [==============================] - 19s 240ms/step - loss: 0.0222 - accuracy: 0.9974 - val_loss: 0.1711 - val_accuracy: 0.9341\n",
      "Epoch 6/10\n",
      "79/79 [==============================] - 20s 253ms/step - loss: 0.0127 - accuracy: 1.0000 - val_loss: 0.1281 - val_accuracy: 0.9641\n",
      "Epoch 7/10\n",
      "79/79 [==============================] - 19s 241ms/step - loss: 0.0118 - accuracy: 0.9987 - val_loss: 0.1362 - val_accuracy: 0.9641\n",
      "Epoch 8/10\n",
      "79/79 [==============================] - 19s 247ms/step - loss: 0.0102 - accuracy: 0.9987 - val_loss: 0.1464 - val_accuracy: 0.9581\n",
      "Epoch 9/10\n",
      "79/79 [==============================] - 19s 244ms/step - loss: 0.0078 - accuracy: 1.0000 - val_loss: 0.1575 - val_accuracy: 0.9401\n",
      "Epoch 10/10\n",
      "79/79 [==============================] - 20s 249ms/step - loss: 0.0046 - accuracy: 1.0000 - val_loss: 0.1715 - val_accuracy: 0.9401\n",
      "17/17 [==============================] - 3s 179ms/step - loss: 0.1518 - accuracy: 0.9586\n",
      "Test Accuracy: 0.9585798978805542\n"
     ]
    }
   ],
   "source": [
    "base_model = MobileNet(weights='imagenet', include_top=False, input_shape=(Height, Width, Channels))\n",
    "base_model.trainable = False\n",
    "\n",
    "x = base_model.output\n",
    "x = GlobalAveragePooling2D()(x)  \n",
    "x = Dense(128, activation='relu')(x)  \n",
    "predictions = Dense(len(Class_names), activation='softmax')(x)  \n",
    "\n",
    "model = Model(inputs=base_model.input, outputs=predictions)\n",
    "\n",
    "for layer in base_model.layers:\n",
    "    layer.trainable = False\n",
    "\n",
    "optimizer = tf.keras.optimizers.Adam()\n",
    "model.compile(optimizer=optimizer, loss='categorical_crossentropy', metrics=['accuracy'])\n",
    "\n",
    "model.summary()\n",
    "\n",
    "history = model.fit(train_dataset, epochs=10, validation_data=val_dataset)\n",
    "\n",
    "test_loss, test_accuracy = model.evaluate(test_dataset)\n",
    "print(\"Test Accuracy:\", test_accuracy)"
   ]
  },
  {
   "cell_type": "code",
   "execution_count": 60,
   "metadata": {},
   "outputs": [
    {
     "name": "stdout",
     "output_type": "stream",
     "text": [
      "17/17 [==============================] - 4s 186ms/step\n",
      "Accuracy for class cloudy: 0.98\n",
      "Accuracy for class rain: 1.00\n",
      "Accuracy for class shine: 0.86\n",
      "Accuracy for class sunrise: 0.98\n"
     ]
    }
   ],
   "source": [
    "predictions = model.predict(test_dataset)\n",
    "\n",
    "predicted_labels = np.argmax(predictions, axis=1)\n",
    "\n",
    "true_labels = np.concatenate([y for x, y in test_dataset], axis=0)\n",
    "true_labels = np.argmax(true_labels, axis=1)\n",
    "\n",
    "class_accuracies = {}\n",
    "for i in range(len(Class_names)):\n",
    "    class_indices = np.where(true_labels == i)[0]\n",
    "    class_accuracy = np.mean(predicted_labels[class_indices] == true_labels[class_indices])\n",
    "    class_accuracies[Class_names[i]] = class_accuracy\n",
    "\n",
    "for class_name, accuracy in class_accuracies.items():\n",
    "    print(f\"Accuracy for class {class_name}: {accuracy:.2f}\")"
   ]
  },
  {
   "cell_type": "markdown",
   "metadata": {
    "id": "sb0NTIk1fnGA"
   },
   "source": [
    "### Task 3.3 Comparative evaluation (1 mark)\n",
    "\n",
    "Compare the evaluation results of the best systems from tasks 3.1 and 3.2 and answer the following questions.\n",
    "\n",
    "1. What system (including the systems you developed in Task 2) perform best on the test set?\n",
    "2. Report the accuracy of your best system on each of the different weather categories. What type of weather was most difficult to detect?"
   ]
  },
  {
   "cell_type": "markdown",
   "metadata": {
    "id": "Xm9mYpAzfnGA"
   },
   "source": [
    "The pre trained model (Mobilenet) offered the best accuracy when evaluated on the test dataset. \n",
    "- Pretrained model (Mobilenet) accuracy = 0.96\n",
    "- Model Using Convulutional Neural Networks accuracy = 0.86\n",
    "- Complex model with hidden layers accuracy = 0.85\n",
    "- Simple Model with only an input layer(Flatten) and an Output layer accuracy = 0.80"
   ]
  },
  {
   "cell_type": "markdown",
   "metadata": {},
   "source": [
    "The accuracy of each model on each of weather classes rainy, shine, sunrise, cloudy are:\n",
    "- Mobilenet:\n",
    "    - Accuracy for class cloudy: 0.98\n",
    "    - Accuracy for class rain: 1.00\n",
    "    - Accuracy for class shine: 0.86\n",
    "    - Accuracy for class sunrise: 0.98\n",
    "This model had the most difficulty in detecting images that show shine."
   ]
  },
  {
   "cell_type": "markdown",
   "metadata": {
    "id": "QTQVETEdfnGB"
   },
   "source": [
    "## Coding (1 mark)\n",
    "\n",
    "This mark will be assigned to submissions that have clean and efficient code and good in-code documentation of all code presented in this assignment."
   ]
  },
  {
   "cell_type": "markdown",
   "metadata": {
    "id": "IO8FOQBXfnGC"
   },
   "source": [
    "## GitHub Classroom (1 mark)\n",
    "\n",
    "These marks will be given to submissions that:\n",
    "\n",
    "- Have continuously committed changes to the GitHub repository at GitHub Classroom.\n",
    "- The commit messages are useful and informative."
   ]
  },
  {
   "cell_type": "markdown",
   "metadata": {
    "id": "-cqXz5HqfnGC"
   },
   "source": [
    "# Submission\n",
    "\n",
    "Your submission should consist of this Jupyter notebook with all your code and explanations inserted into the notebook as text cells. **The notebook should contain the output of the runs. All code should run. Code with syntax errors or code without output will not be assessed.**\n",
    "\n",
    "**Do not submit multiple files. If you feel you need to submit multiple files, please contact Diego.Molla-Aliod@mq.edu.au first.**\n",
    "\n",
    "Examine the text cells of this notebook so that you can have an idea of how to format text for good visual impact. You can also read this useful [guide to the MarkDown notation](https://daringfireball.net/projects/markdown/syntax), which explains the format of the text cells.\n",
    "\n",
    "Each task specifies a number of marks. The final mark of the assignment is the sum of all the marks of each individual task.\n",
    "\n",
    "By submitting this assignment you are acknowledging that this is your own work. Any submissions that break the code of academic honesty will be penalised as per [the academic integrity policy](https://policies.mq.edu.au/document/view.php?id=3).\n",
    "\n",
    "## A note on the use of AI code generators\n",
    "\n",
    "In this assignment, we view AI code generators such as copilot, CodeGPT, etc as tools that can help you write code quickly. You are allowed to use these tools, but with some conditions. To understand what you can and what you cannot do, please visit these information pages provided by Macquarie University.\n",
    "\n",
    "- Artificial Intelligence Tools and Academic Integrity in FSE - https://bit.ly/3uxgQP4\n",
    "\n",
    "If you choose to use these tools, make the following explicit in your Jupyter notebook, under a section with heading \"Use of AI generators in this assignment\" :\n",
    "\n",
    "- What part of your code is based on the output of such tools,\n",
    "- What tools you used,\n",
    "- What prompts you used to generate the code or text, and\n",
    "- What modifications you made on the generated code or text.\n",
    "\n",
    "This will help us assess your work fairly.\n"
   ]
  },
  {
   "cell_type": "markdown",
   "metadata": {},
   "source": []
  }
 ],
 "metadata": {
  "accelerator": "GPU",
  "colab": {
   "gpuType": "T4",
   "provenance": []
  },
  "kernelspec": {
   "display_name": "Python 3 (ipykernel)",
   "language": "python",
   "name": "python3"
  },
  "language_info": {
   "codemirror_mode": {
    "name": "ipython",
    "version": 3
   },
   "file_extension": ".py",
   "mimetype": "text/x-python",
   "name": "python",
   "nbconvert_exporter": "python",
   "pygments_lexer": "ipython3",
   "version": "3.11.5"
  }
 },
 "nbformat": 4,
 "nbformat_minor": 4
}
